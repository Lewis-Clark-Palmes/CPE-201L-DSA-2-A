{
  "nbformat": 4,
  "nbformat_minor": 0,
  "metadata": {
    "colab": {
      "provenance": [],
      "authorship_tag": "ABX9TyPCaM/cBrCgEoLq6foRb8Qa",
      "include_colab_link": true
    },
    "kernelspec": {
      "name": "python3",
      "display_name": "Python 3"
    },
    "language_info": {
      "name": "python"
    }
  },
  "cells": [
    {
      "cell_type": "markdown",
      "metadata": {
        "id": "view-in-github",
        "colab_type": "text"
      },
      "source": [
        "<a href=\"https://colab.research.google.com/github/Lewis-Clark-Palmes/CPE-201L-DSA-2-A/blob/main/Midterm-TestSkill.ipynb\" target=\"_parent\"><img src=\"https://colab.research.google.com/assets/colab-badge.svg\" alt=\"Open In Colab\"/></a>"
      ]
    },
    {
      "cell_type": "markdown",
      "source": [
        "---\n",
        "\n",
        "\n",
        "**MIDTERM SKILL-TEST**\n",
        "\n",
        "\n",
        "---\n",
        "1. Implement an array of even integers less than 50 but not less than 20 and do the following operations:\n",
        "\n",
        "a.) Display the elements\n",
        "\n",
        "b.) Find the maximum element\n",
        "\n",
        "c.) Reverse the Array"
      ],
      "metadata": {
        "id": "JLYTKBv1BpFN"
      }
    },
    {
      "cell_type": "code",
      "source": [
        "Arr = [0] * 15\n",
        "Arr[0] = \"20\"\n",
        "Arr[1] = \"22\"\n",
        "Arr[2] = \"24\"\n",
        "Arr[3] = \"26\"\n",
        "Arr[4] = \"28\"\n",
        "Arr[5] = \"30\"\n",
        "Arr[6] = \"32\"\n",
        "Arr[7] = \"34\"\n",
        "Arr[8] = \"36\"\n",
        "Arr[9] = \"38\"\n",
        "Arr[10] = \"40\"\n",
        "Arr[11] = \"42\"\n",
        "Arr[12] = \"44\"\n",
        "Arr[13] = \"46\"\n",
        "Arr[14] = \"48\"\n",
        "\n",
        "# a.) Display the elements\n",
        "print(\"a.) Array elements:\")\n",
        "print(Arr)\n",
        "\n",
        "# b.) Find the maximum element\n",
        "max_element = max(Arr)\n",
        "print(\"\\nb.) Maximum element:\", max_element)\n",
        "\n",
        "# c.) Reverse the array\n",
        "reversed_array = Arr[::-1]\n",
        "print(\"\\nc.) Reversed array:\")\n",
        "print(reversed_array)"
      ],
      "metadata": {
        "colab": {
          "base_uri": "https://localhost:8080/"
        },
        "id": "XznB_I5jLcct",
        "outputId": "c125661f-9206-4b0b-e53e-cb4a340a17c9"
      },
      "execution_count": 35,
      "outputs": [
        {
          "output_type": "stream",
          "name": "stdout",
          "text": [
            "a.) Array elements:\n",
            "['20', '22', '24', '26', '28', '30', '32', '34', '36', '38', '40', '42', '44', '46', '48']\n",
            "\n",
            "b.) Maximum element: 48\n",
            "\n",
            "c.) Reversed array:\n",
            "['48', '46', '44', '42', '40', '38', '36', '34', '32', '30', '28', '26', '24', '22', '20']\n"
          ]
        }
      ]
    }
  ]
}