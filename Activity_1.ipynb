{
  "nbformat": 4,
  "nbformat_minor": 0,
  "metadata": {
    "colab": {
      "provenance": [],
      "authorship_tag": "ABX9TyNWEu+vQ5NMBWwvbRquCj2f",
      "include_colab_link": true
    },
    "kernelspec": {
      "name": "python3",
      "display_name": "Python 3"
    },
    "language_info": {
      "name": "python"
    }
  },
  "cells": [
    {
      "cell_type": "markdown",
      "metadata": {
        "id": "view-in-github",
        "colab_type": "text"
      },
      "source": [
        "<a href=\"https://colab.research.google.com/github/Lewis-Clark-Palmes/CPE-201L-DSA-2-A/blob/main/Activity_1.ipynb\" target=\"_parent\"><img src=\"https://colab.research.google.com/assets/colab-badge.svg\" alt=\"Open In Colab\"/></a>"
      ]
    },
    {
      "cell_type": "code",
      "execution_count": 21,
      "metadata": {
        "colab": {
          "base_uri": "https://localhost:8080/"
        },
        "id": "9IPg5tAbyrV4",
        "outputId": "e061ba5d-6c75-4d51-c8ab-5abf60eabf7f"
      },
      "outputs": [
        {
          "output_type": "stream",
          "name": "stdout",
          "text": [
            "Enter the radius of the circle: 3\n",
            "The area of the circle is: 28.26\n"
          ]
        }
      ],
      "source": [
        "#compute the area of a circle (Algo 1)\n",
        "r = int(input(\"Enter the radius of the circle: \"))\n",
        "area = 3.14*r**2\n",
        "print(\"The area of the circle is:\", area)"
      ]
    },
    {
      "cell_type": "code",
      "source": [
        "#compute the area of a circle (Algo 2)\n",
        "d = int(input(\"Enter the diameter of the circle: \"))\n",
        "area = 3.14*(d/2)**2\n",
        "print(\"The area of the circle is:\", area)\n"
      ],
      "metadata": {
        "colab": {
          "base_uri": "https://localhost:8080/"
        },
        "outputId": "71724d77-0398-47ea-d283-8ac5e04aa86a",
        "id": "4uyuaFsv1iEq"
      },
      "execution_count": 22,
      "outputs": [
        {
          "output_type": "stream",
          "name": "stdout",
          "text": [
            "Enter the diameter of the circle: 6\n",
            "The area of the circle is: 28.26\n"
          ]
        }
      ]
    }
  ]
}