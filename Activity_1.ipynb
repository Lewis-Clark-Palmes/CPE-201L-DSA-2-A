{
  "nbformat": 4,
  "nbformat_minor": 0,
  "metadata": {
    "colab": {
      "provenance": [],
      "authorship_tag": "ABX9TyO5GZmeVR4ZMU+tfC2oIxPe",
      "include_colab_link": true
    },
    "kernelspec": {
      "name": "python3",
      "display_name": "Python 3"
    },
    "language_info": {
      "name": "python"
    }
  },
  "cells": [
    {
      "cell_type": "markdown",
      "metadata": {
        "id": "view-in-github",
        "colab_type": "text"
      },
      "source": [
        "<a href=\"https://colab.research.google.com/github/Lewis-Clark-Palmes/CPE-201L-DSA-2-A/blob/main/Activity_1.ipynb\" target=\"_parent\"><img src=\"https://colab.research.google.com/assets/colab-badge.svg\" alt=\"Open In Colab\"/></a>"
      ]
    },
    {
      "cell_type": "code",
      "execution_count": 23,
      "metadata": {
        "colab": {
          "base_uri": "https://localhost:8080/"
        },
        "id": "9IPg5tAbyrV4",
        "outputId": "fed23fd6-caa0-4df7-a3d2-a0de276cb412"
      },
      "outputs": [
        {
          "output_type": "stream",
          "name": "stdout",
          "text": [
            "Enter the radius of the circle: 3\n",
            "The area of the circle is: 28\n"
          ]
        }
      ],
      "source": [
        "# area of a circle (Algo 1)\n",
        "r = int(input(\"Enter the radius of the circle: \"))\n",
        "area = 3.14*r**2\n",
        "print(\"The area of the circle is:\", int(area))"
      ]
    },
    {
      "cell_type": "code",
      "source": [
        "# area of a circle (Algo 2)\n",
        "d = int(input(\"Enter the diameter of the circle: \"))\n",
        "area = 3.14*(d/2)**2\n",
        "print(\"The area of the circle is:\", int(area))\n"
      ],
      "metadata": {
        "colab": {
          "base_uri": "https://localhost:8080/"
        },
        "outputId": "8fb92828-1344-4a2e-f51e-7af3af568211",
        "id": "4uyuaFsv1iEq"
      },
      "execution_count": 24,
      "outputs": [
        {
          "output_type": "stream",
          "name": "stdout",
          "text": [
            "Enter the diameter of the circle: 6\n",
            "The area of the circle is: 28\n"
          ]
        }
      ]
    }
  ]
}