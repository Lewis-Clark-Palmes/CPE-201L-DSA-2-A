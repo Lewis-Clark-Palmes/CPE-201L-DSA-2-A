{
  "nbformat": 4,
  "nbformat_minor": 0,
  "metadata": {
    "colab": {
      "provenance": [],
      "authorship_tag": "ABX9TyNSeDraVqmaC78zd+eQAolZ",
      "include_colab_link": true
    },
    "kernelspec": {
      "name": "python3",
      "display_name": "Python 3"
    },
    "language_info": {
      "name": "python"
    }
  },
  "cells": [
    {
      "cell_type": "markdown",
      "metadata": {
        "id": "view-in-github",
        "colab_type": "text"
      },
      "source": [
        "<a href=\"https://colab.research.google.com/github/Lewis-Clark-Palmes/CPE-201L-DSA-2-A/blob/main/LAB_2.ipynb\" target=\"_parent\"><img src=\"https://colab.research.google.com/assets/colab-badge.svg\" alt=\"Open In Colab\"/></a>"
      ]
    },
    {
      "cell_type": "code",
      "execution_count": null,
      "metadata": {
        "id": "wKTdapKeDSaI",
        "colab": {
          "base_uri": "https://localhost:8080/"
        },
        "outputId": "263c2efd-dca3-4c10-9fc0-5077c8d0963f"
      },
      "outputs": [
        {
          "output_type": "stream",
          "name": "stdout",
          "text": [
            "Minimum: 1\n",
            "Maximum: 9\n"
          ]
        }
      ],
      "source": [
        "def find_min_max(seq, index=0, current_min=None, current_max=None):\n",
        "    if index == len(seq):\n",
        "        return current_min, current_max\n",
        "\n",
        "    val = seq[index]\n",
        "\n",
        "    if current_min is None or val < current_min:\n",
        "        current_min = val\n",
        "    if current_max is None or val > current_max:\n",
        "        current_max = val\n",
        "\n",
        "    return find_min_max(seq, index + 1, current_min, current_max)\n",
        "\n",
        "seq = [5, 3, 9, 1, 7]\n",
        "min_val, max_val = find_min_max(seq)\n",
        "print(\"Minimum:\", min_val)\n",
        "print(\"Maximum:\", max_val)\n",
        "\n"
      ]
    }
  ]
}