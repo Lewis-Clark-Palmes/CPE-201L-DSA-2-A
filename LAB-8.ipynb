{
  "nbformat": 4,
  "nbformat_minor": 0,
  "metadata": {
    "colab": {
      "provenance": [],
      "authorship_tag": "ABX9TyMPlNrNAIdJcmcc/Y8z0iYy",
      "include_colab_link": true
    },
    "kernelspec": {
      "name": "python3",
      "display_name": "Python 3"
    },
    "language_info": {
      "name": "python"
    }
  },
  "cells": [
    {
      "cell_type": "markdown",
      "metadata": {
        "id": "view-in-github",
        "colab_type": "text"
      },
      "source": [
        "<a href=\"https://colab.research.google.com/github/Lewis-Clark-Palmes/CPE-201L-DSA-2-A/blob/main/LAB-8.ipynb\" target=\"_parent\"><img src=\"https://colab.research.google.com/assets/colab-badge.svg\" alt=\"Open In Colab\"/></a>"
      ]
    },
    {
      "cell_type": "code",
      "execution_count": 4,
      "metadata": {
        "colab": {
          "base_uri": "https://localhost:8080/"
        },
        "id": "vjgT2abkF9xZ",
        "outputId": "bcda4f2b-db82-44b9-de87-097404b5d627"
      },
      "outputs": [
        {
          "output_type": "stream",
          "name": "stdout",
          "text": [
            "Pushed Element: 1\n",
            "Pushed Element: 2\n",
            "Pushed Element: 3\n",
            "Pushed Element: 4\n",
            "Pushed Element: 5\n",
            "The elements in the stack are:['1', '2', '3', '4', '5']\n"
          ]
        }
      ],
      "source": [
        "# Stack implementation in python\n",
        "# Creating a stack\n",
        "def create_stack():\n",
        "    stack = []\n",
        "    return stack\n",
        "\n",
        "# Creating an empty stack\n",
        "def is_empty(stack):\n",
        "    return len(stack) == 0\n",
        "\n",
        "# Adding items into the stack\n",
        "def push(stack, item):\n",
        "    stack.append(item)\n",
        "    print(\"Pushed Element: \" + item)\n",
        "\n",
        "# Removing an element from the stack\n",
        "def pop(stack):\n",
        "    if (is_empty(stack)):\n",
        "        return \"The stack is empty\"\n",
        "    return stack.pop()\n",
        "\n",
        "stack = create_stack()\n",
        "push(stack, str(1))\n",
        "push(stack, str(2))\n",
        "push(stack, str(3))\n",
        "push(stack, str(4))\n",
        "push(stack, str(5))\n",
        "\n",
        "print(\"The elements in the stack are:\"+ str(stack))"
      ]
    },
    {
      "cell_type": "code",
      "source": [
        "# Stack implementation in python\n",
        "# Creating a stack\n",
        "def create_stack():\n",
        "    stack = []\n",
        "    return stack\n",
        "\n",
        "# Creating an empty stack\n",
        "def is_empty(stack):\n",
        "    return len(stack) == 0\n",
        "\n",
        "# Adding items into the stack\n",
        "def push(stack, item):\n",
        "    stack.append(item)\n",
        "    print(\"Pushed Element: \" + item)\n",
        "\n",
        "# Removing an element from the stack\n",
        "def pop(stack):\n",
        "    if (is_empty(stack)):\n",
        "        return \"The stack is empty\"\n",
        "    return stack.pop()\n",
        "\n",
        "stack = create_stack()\n",
        "push(stack, str(1))\n",
        "push(stack, str(2))\n",
        "push(stack, str(3))\n",
        "push(stack, str(4))\n",
        "push(stack, str(5))\n",
        "\n",
        "for i in range(3):\n",
        "    print(\"Popped:\", pop(stack))\n",
        "\n",
        "\n",
        "print(\"The elements in the stack are:\"+ str(stack))"
      ],
      "metadata": {
        "colab": {
          "base_uri": "https://localhost:8080/"
        },
        "id": "_kmWNjm9Kjnk",
        "outputId": "27c3b195-7299-436f-db63-a52e9ed39866"
      },
      "execution_count": 5,
      "outputs": [
        {
          "output_type": "stream",
          "name": "stdout",
          "text": [
            "Pushed Element: 1\n",
            "Pushed Element: 2\n",
            "Pushed Element: 3\n",
            "Pushed Element: 4\n",
            "Pushed Element: 5\n",
            "Popped: 5\n",
            "Popped: 4\n",
            "Popped: 3\n",
            "The elements in the stack are:['1', '2']\n"
          ]
        }
      ]
    },
    {
      "cell_type": "code",
      "source": [
        "# Stack implementation in python\n",
        "# Creating a stack\n",
        "def create_stack():\n",
        "    stack = []\n",
        "    return stack\n",
        "\n",
        "# Creating an empty stack\n",
        "def is_empty(stack):\n",
        "    return len(stack) == 0\n",
        "\n",
        "# Adding items into the stack\n",
        "def push(stack, item):\n",
        "    stack.append(item)\n",
        "    print(\"Pushed Element: \" + item)\n",
        "\n",
        "# Removing an element from the stack\n",
        "def pop(stack):\n",
        "    if (is_empty(stack)):\n",
        "        return \"The stack is empty\"\n",
        "    return stack.pop()\n",
        "\n",
        "stack = create_stack()\n",
        "push(stack, str(1))\n",
        "push(stack, str(2))\n",
        "push(stack, str(3))\n",
        "push(stack, str(4))\n",
        "push(stack, str(5))\n",
        "\n",
        "print(\"The elements in the stack are:\"+ str(stack))\n",
        "\n",
        "def size(stack):\n",
        "    return len(stack)\n",
        "print(\"The size of the stack is:\", size(stack))"
      ],
      "metadata": {
        "colab": {
          "base_uri": "https://localhost:8080/"
        },
        "id": "VFQ4mZxlLLZz",
        "outputId": "b04c80c3-6d78-4aca-b53e-ce6f0f4c8d8c"
      },
      "execution_count": 7,
      "outputs": [
        {
          "output_type": "stream",
          "name": "stdout",
          "text": [
            "Pushed Element: 1\n",
            "Pushed Element: 2\n",
            "Pushed Element: 3\n",
            "Pushed Element: 4\n",
            "Pushed Element: 5\n",
            "The elements in the stack are:['1', '2', '3', '4', '5']\n",
            "The size of the stack is: 5\n"
          ]
        }
      ]
    }
  ]
}