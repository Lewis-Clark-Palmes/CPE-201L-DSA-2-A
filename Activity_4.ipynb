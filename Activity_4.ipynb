{
  "nbformat": 4,
  "nbformat_minor": 0,
  "metadata": {
    "colab": {
      "provenance": [],
      "authorship_tag": "ABX9TyOUC3drUg/RfzAEM2FN6Nto",
      "include_colab_link": true
    },
    "kernelspec": {
      "name": "python3",
      "display_name": "Python 3"
    },
    "language_info": {
      "name": "python"
    }
  },
  "cells": [
    {
      "cell_type": "markdown",
      "metadata": {
        "id": "view-in-github",
        "colab_type": "text"
      },
      "source": [
        "<a href=\"https://colab.research.google.com/github/Lewis-Clark-Palmes/CPE-201L-DSA-2-A/blob/main/Activity_4.ipynb\" target=\"_parent\"><img src=\"https://colab.research.google.com/assets/colab-badge.svg\" alt=\"Open In Colab\"/></a>"
      ]
    },
    {
      "cell_type": "code",
      "execution_count": 2,
      "metadata": {
        "id": "ScscXwOaWm63",
        "colab": {
          "base_uri": "https://localhost:8080/",
          "height": 347
        },
        "outputId": "87af19a1-0757-4ba2-82d3-f815d553b642"
      },
      "outputs": [
        {
          "output_type": "error",
          "ename": "AttributeError",
          "evalue": "'list' object has no attribute 'dequeue'",
          "traceback": [
            "\u001b[0;31m---------------------------------------------------------------------------\u001b[0m",
            "\u001b[0;31mAttributeError\u001b[0m                            Traceback (most recent call last)",
            "\u001b[0;32m/tmp/ipython-input-3592080490.py\u001b[0m in \u001b[0;36m<cell line: 0>\u001b[0;34m()\u001b[0m\n\u001b[1;32m     37\u001b[0m \u001b[0mAQueue\u001b[0m\u001b[0;34m.\u001b[0m\u001b[0menqueue\u001b[0m\u001b[0;34m(\u001b[0m\u001b[0;34m\"Sat\"\u001b[0m\u001b[0;34m)\u001b[0m\u001b[0;34m\u001b[0m\u001b[0;34m\u001b[0m\u001b[0m\n\u001b[1;32m     38\u001b[0m \u001b[0;34m\u001b[0m\u001b[0m\n\u001b[0;32m---> 39\u001b[0;31m \u001b[0mprint\u001b[0m\u001b[0;34m(\u001b[0m\u001b[0mAQueue\u001b[0m\u001b[0;34m.\u001b[0m\u001b[0mdequeue\u001b[0m\u001b[0;34m(\u001b[0m\u001b[0;34m)\u001b[0m\u001b[0;34m)\u001b[0m\u001b[0;34m\u001b[0m\u001b[0;34m\u001b[0m\u001b[0m\n\u001b[0m\u001b[1;32m     40\u001b[0m \u001b[0;34m\u001b[0m\u001b[0m\n\u001b[1;32m     41\u001b[0m \u001b[0;34m\u001b[0m\u001b[0m\n",
            "\u001b[0;32m/tmp/ipython-input-3592080490.py\u001b[0m in \u001b[0;36mdequeue\u001b[0;34m(self)\u001b[0m\n\u001b[1;32m     16\u001b[0m             \u001b[0;32mreturn\u001b[0m \u001b[0;34m\"Queue is empty\"\u001b[0m\u001b[0;34m\u001b[0m\u001b[0;34m\u001b[0m\u001b[0m\n\u001b[1;32m     17\u001b[0m         \u001b[0;32melse\u001b[0m\u001b[0;34m:\u001b[0m\u001b[0;34m\u001b[0m\u001b[0;34m\u001b[0m\u001b[0m\n\u001b[0;32m---> 18\u001b[0;31m             \u001b[0;32mreturn\u001b[0m \u001b[0mself\u001b[0m\u001b[0;34m.\u001b[0m\u001b[0mqueue\u001b[0m\u001b[0;34m.\u001b[0m\u001b[0mdequeue\u001b[0m\u001b[0;34m(\u001b[0m\u001b[0;34m)\u001b[0m\u001b[0;34m\u001b[0m\u001b[0;34m\u001b[0m\u001b[0m\n\u001b[0m\u001b[1;32m     19\u001b[0m \u001b[0;34m\u001b[0m\u001b[0m\n\u001b[1;32m     20\u001b[0m     \u001b[0;32mdef\u001b[0m \u001b[0mdisplay\u001b[0m\u001b[0;34m(\u001b[0m\u001b[0mself\u001b[0m\u001b[0;34m)\u001b[0m\u001b[0;34m:\u001b[0m\u001b[0;34m\u001b[0m\u001b[0;34m\u001b[0m\u001b[0m\n",
            "\u001b[0;31mAttributeError\u001b[0m: 'list' object has no attribute 'dequeue'"
          ]
        }
      ],
      "source": [
        "class Queue:\n",
        "    def __init__(self):\n",
        "        self.queue = []\n",
        "\n",
        "    def enqueue(self, dataval):\n",
        "        # Use list append method to add element\n",
        "        if dataval not in self.queue:\n",
        "            self.queue.append(dataval)\n",
        "            return True\n",
        "        else:\n",
        "            return False\n",
        "\n",
        "    def dequeue(self):\n",
        "        # Remove and return the top element (last in first out)\n",
        "        if len(self.queue) <= 0:\n",
        "            return \"Queue is empty\"\n",
        "        else:\n",
        "            return self.queue.dequeue()\n",
        "\n",
        "    def display(self):\n",
        "      for item in reversed(self.queue):    #stack = [\"Sun\",\"Mon\",\"Tues\",\"Wed\",\"Thurs\",\"Fri\",\"Sat\"]\n",
        "        print(item)\n",
        "\n",
        "    #def empty_stack(self):\n",
        "\n",
        "    #def full_stack(self):\n",
        "\n",
        "    #def top_element:\n",
        "\n",
        "AQueue = Queue()\n",
        "AQueue.enqueue(\"Sun\")\n",
        "AQueue.enqueue(\"Mon\")\n",
        "AQueue.enqueue(\"Tue\")\n",
        "AQueue.enqueue(\"Wed\")\n",
        "AQueue.enqueue(\"Thu\")\n",
        "AQueue.enqueue(\"Fri\")\n",
        "AQueue.enqueue(\"Sat\")\n",
        "\n",
        "print(AQueue.dequeue())\n",
        "\n",
        "\n",
        "\n",
        "\n",
        "AQueue.display()"
      ]
    },
    {
      "cell_type": "code",
      "source": [
        "class Queue:\n",
        "    def __init__(self):\n",
        "        self.queue = []\n",
        "\n",
        "    def enqueue(self, dataval):\n",
        "        if dataval not in self.queue:\n",
        "            self.queue.append(dataval)\n",
        "            return True\n",
        "        else:\n",
        "            return False\n",
        "\n",
        "    def dequeue(self):\n",
        "        if len(self.queue) <= 0:\n",
        "            return \"Queue is empty\"\n",
        "        else:\n",
        "            return self.queue.pop(0)\n",
        "\n",
        "    def display(self):\n",
        "        for item in self.queue:\n",
        "            print(item)\n",
        "\n",
        "AQueue = Queue()\n",
        "AQueue.enqueue(\"Sun\")\n",
        "AQueue.enqueue(\"Mon\")\n",
        "AQueue.enqueue(\"Tue\")\n",
        "AQueue.enqueue(\"Wed\")\n",
        "AQueue.enqueue(\"Thu\")\n",
        "AQueue.enqueue(\"Fri\")\n",
        "AQueue.enqueue(\"Sat\")\n",
        "\n",
        "print(AQueue.dequeue())\n",
        "AQueue.display()"
      ],
      "metadata": {
        "colab": {
          "base_uri": "https://localhost:8080/"
        },
        "id": "8dYg4YrublCE",
        "outputId": "02318cc4-25e2-4c91-c101-09fe65c8955a"
      },
      "execution_count": 1,
      "outputs": [
        {
          "output_type": "stream",
          "name": "stdout",
          "text": [
            "Sun\n",
            "Mon\n",
            "Tue\n",
            "Wed\n",
            "Thu\n",
            "Fri\n",
            "Sat\n"
          ]
        }
      ]
    },
    {
      "cell_type": "code",
      "source": [
        "class Queue:\n",
        "    def __init__(self):\n",
        "        self.queue = []\n",
        "\n",
        "    def enqueue(self, dataval):\n",
        "        self.queue.append(dataval)\n",
        "\n",
        "    def dequeue(self):\n",
        "        if len(self.queue) <= 0:\n",
        "            return \"Queue is empty\"\n",
        "        else:\n",
        "            return self.queue.pop(0)\n",
        "\n",
        "    def display(self):\n",
        "        for item in self.queue:\n",
        "            print(item)\n",
        "\n",
        "    def head_tail(self):\n",
        "        if len(self.queue) == 0:\n",
        "            print(\"Queue is empty\")\n",
        "        else:\n",
        "            print(\"Head:\", self.queue[0])\n",
        "            print(\"Tail:\", self.queue[-1])\n",
        "\n",
        "\n",
        "AQueue = Queue()\n",
        "AQueue.enqueue(\"Sun\")\n",
        "AQueue.enqueue(\"Mon\")\n",
        "AQueue.enqueue(\"Tue\")\n",
        "AQueue.enqueue(\"Wed\")\n",
        "AQueue.enqueue(\"Thu\")\n",
        "AQueue.enqueue(\"Fri\")\n",
        "AQueue.enqueue(\"Sat\")\n",
        "\n",
        "AQueue.dequeue()\n",
        "AQueue.display()\n",
        "print()\n",
        "AQueue.head_tail()"
      ],
      "metadata": {
        "colab": {
          "base_uri": "https://localhost:8080/"
        },
        "id": "tyB-jIH-blQo",
        "outputId": "b97506bf-be48-4b5b-d786-84f13aee20e6"
      },
      "execution_count": 3,
      "outputs": [
        {
          "output_type": "stream",
          "name": "stdout",
          "text": [
            "Mon\n",
            "Tue\n",
            "Wed\n",
            "Thu\n",
            "Fri\n",
            "Sat\n",
            "\n",
            "Head: Mon\n",
            "Tail: Sat\n"
          ]
        }
      ]
    }
  ]
}