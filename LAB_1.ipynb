{
  "nbformat": 4,
  "nbformat_minor": 0,
  "metadata": {
    "colab": {
      "provenance": [],
      "authorship_tag": "ABX9TyPOouFbO+WN+1Yf7P18NLSP",
      "include_colab_link": true
    },
    "kernelspec": {
      "name": "python3",
      "display_name": "Python 3"
    },
    "language_info": {
      "name": "python"
    }
  },
  "cells": [
    {
      "cell_type": "markdown",
      "metadata": {
        "id": "view-in-github",
        "colab_type": "text"
      },
      "source": [
        "<a href=\"https://colab.research.google.com/github/Lewis-Clark-Palmes/CPE-201L-DSA-2-A/blob/main/LAB_1.ipynb\" target=\"_parent\"><img src=\"https://colab.research.google.com/assets/colab-badge.svg\" alt=\"Open In Colab\"/></a>"
      ]
    },
    {
      "cell_type": "code",
      "execution_count": null,
      "metadata": {
        "id": "J8ZWxfIJCm5m",
        "colab": {
          "base_uri": "https://localhost:8080/"
        },
        "outputId": "ffc8a44b-d164-4630-e020-2c92f71e8190"
      },
      "outputs": [
        {
          "output_type": "stream",
          "name": "stdout",
          "text": [
            "Hexagon\n",
            "6\n",
            "93.5\n",
            "100.0\n"
          ]
        }
      ],
      "source": [
        "class Polygons:\n",
        "    def __init__(self, name: str, sides: int, area: float):\n",
        "        self._name = name\n",
        "        self._sides = sides\n",
        "        self._area = area\n",
        "\n",
        "\n",
        "    def set_name(self, name: str):\n",
        "        self._name = name\n",
        "\n",
        "    def set_sides(self, sides: int):\n",
        "        self._sides = sides\n",
        "\n",
        "    def set_area(self, area: float):\n",
        "        self._area = area\n",
        "\n",
        "\n",
        "    def get_name(self) -> str:\n",
        "        return self._name\n",
        "\n",
        "    def get_sides(self) -> int:\n",
        "        return self._sides\n",
        "\n",
        "    def get_area(self) -> float:\n",
        "        return self._area\n",
        "\n",
        "hexagon = Polygons(\"Hexagon\", 6, 93.5)\n",
        "\n",
        "print(hexagon.get_name())\n",
        "print(hexagon.get_sides())\n",
        "print(hexagon.get_area())\n",
        "\n",
        "hexagon.set_area(100.0)\n",
        "print(hexagon.get_area())\n"
      ]
    }
  ]
}