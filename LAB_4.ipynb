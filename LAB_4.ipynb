{
  "nbformat": 4,
  "nbformat_minor": 0,
  "metadata": {
    "colab": {
      "provenance": [],
      "authorship_tag": "ABX9TyPkbWvwXNlHCFxGTfZXdPb3",
      "include_colab_link": true
    },
    "kernelspec": {
      "name": "python3",
      "display_name": "Python 3"
    },
    "language_info": {
      "name": "python"
    }
  },
  "cells": [
    {
      "cell_type": "markdown",
      "metadata": {
        "id": "view-in-github",
        "colab_type": "text"
      },
      "source": [
        "<a href=\"https://colab.research.google.com/github/Lewis-Clark-Palmes/CPE-201L-DSA-2-A/blob/main/LAB_4.ipynb\" target=\"_parent\"><img src=\"https://colab.research.google.com/assets/colab-badge.svg\" alt=\"Open In Colab\"/></a>"
      ]
    },
    {
      "cell_type": "markdown",
      "source": [
        "# **PROBLEM** **1**"
      ],
      "metadata": {
        "id": "fxt186lE08au"
      }
    },
    {
      "cell_type": "code",
      "execution_count": 39,
      "metadata": {
        "id": "_Oeod-aMzKOH"
      },
      "outputs": [],
      "source": [
        "class GroceryItem:\n",
        "    def __init__(self, name=\"\", price=0.0, quantity=0):\n",
        "        self.name = name\n",
        "        self.price = price\n",
        "        self.quantity = quantity\n",
        "        print(f\"Constructor called for {self.name}\")\n",
        "\n",
        "    def __copy__(self):\n",
        "        print(f\"Copy constructor called for {self.name}\")\n",
        "        return type(self)(self.name, self.price, self.quantity)\n",
        "\n",
        "    def copy_assign(self, other):\n",
        "        print(f\"Copy assignment called: {other.name} -> {self.name}\")\n",
        "        self.name = other.name\n",
        "        self.price = other.price\n",
        "        self.quantity = other.quantity\n",
        "\n",
        "    def __del__(self):\n",
        "        print(f\"Deconstructor called for {self.name}\")\n",
        "\n",
        "    def calculate_sum(self):\n",
        "        return self.price * self.quantity\n",
        "\n",
        "    def display(self):\n",
        "        print(f\"{self.name} - PHP {self.price} x {self.quantity} = PHP {self.calculate_sum()}\")\n",
        "\n",
        "class Fruit(GroceryItem):\n",
        "    pass\n",
        "\n",
        "class Vegetable(GroceryItem):\n",
        "    pass\n"
      ]
    },
    {
      "cell_type": "markdown",
      "source": [
        "# **PROBLEM** **2**"
      ],
      "metadata": {
        "id": "QcjxHyQa1mRX"
      }
    },
    {
      "cell_type": "code",
      "source": [
        "GroceryList = [\n",
        "    Fruit(\"Apple\", 10, 7),\n",
        "    Fruit(\"Banana\", 10, 8),\n",
        "    Vegetable(\"Broccoli\", 60, 12),\n",
        "    Vegetable(\"Lettuce\", 50, 10)\n",
        "]\n",
        "\n",
        "print(\"\\nJenna's Grocery List:\")\n",
        "for item in GroceryList:\n",
        "    item.display()\n"
      ],
      "metadata": {
        "colab": {
          "base_uri": "https://localhost:8080/"
        },
        "id": "bY3STCY6z8XW",
        "outputId": "a0c2bbae-b61c-4d95-9677-c80ba31ba3f6"
      },
      "execution_count": 40,
      "outputs": [
        {
          "output_type": "stream",
          "name": "stdout",
          "text": [
            "Constructor called for Apple\n",
            "Constructor called for Banana\n",
            "Constructor called for Broccoli\n",
            "Constructor called for Lettuce\n",
            "\n",
            "Jenna's Grocery List:\n",
            "Apple - PHP 10 x 7 = PHP 70\n",
            "Banana - PHP 10 x 8 = PHP 80\n",
            "Broccoli - PHP 60 x 12 = PHP 720\n",
            "Lettuce - PHP 50 x 10 = PHP 500\n"
          ]
        }
      ]
    },
    {
      "cell_type": "markdown",
      "source": [
        "\n",
        "\n",
        "# **PROBLEM** **3**"
      ],
      "metadata": {
        "id": "EgSyjMxl1mfj"
      }
    },
    {
      "cell_type": "code",
      "source": [
        "def TotalSum(glist):\n",
        "    return sum(item.calculate_sum() for item in glist if item is not None)\n",
        "\n",
        "print(f\"\\nTotal Amount: PHP {TotalSum(GroceryList)}\")\n"
      ],
      "metadata": {
        "colab": {
          "base_uri": "https://localhost:8080/"
        },
        "id": "mM704L1q0DbP",
        "outputId": "4b769373-1823-4fc5-ea98-f438519d90a3"
      },
      "execution_count": 41,
      "outputs": [
        {
          "output_type": "stream",
          "name": "stdout",
          "text": [
            "\n",
            "Total Amount: PHP 1370\n"
          ]
        }
      ]
    },
    {
      "cell_type": "markdown",
      "source": [
        "# **PROBLEM** **4**"
      ],
      "metadata": {
        "id": "Uc5zjOQ_1mmO"
      }
    },
    {
      "cell_type": "code",
      "source": [
        "for i, item in enumerate(GroceryList):\n",
        "    if item and item.name.lower() == \"lettuce\":\n",
        "        del GroceryList[4]\n",
        "        GroceryList[4] = None\n",
        "        print(\"\\nLettuce removed from the list.\")\n",
        "        break\n",
        "\n",
        "# Display updated list\n",
        "print(\"\\nUpdated Grocery List:\")\n",
        "for item in GroceryList:\n",
        "    if item:\n",
        "        item.display()\n",
        "\n",
        "print(f\"\\nUpdated Total Amount: PHP {TotalSum(GroceryList)}\")\n"
      ],
      "metadata": {
        "colab": {
          "base_uri": "https://localhost:8080/"
        },
        "id": "OK9GYlGM3Yl_",
        "outputId": "5d5b4f7c-6bb4-4502-e076-d47e6b3dd696"
      },
      "execution_count": 43,
      "outputs": [
        {
          "output_type": "stream",
          "name": "stdout",
          "text": [
            "Deconstructor called for Lettuce\n",
            "\n",
            "Updated Grocery List:\n",
            "Apple - PHP 10 x 7 = PHP 70\n",
            "Banana - PHP 10 x 8 = PHP 80\n",
            "Broccoli - PHP 60 x 12 = PHP 720\n",
            "\n",
            "Updated Total Amount: PHP 870\n"
          ]
        }
      ]
    }
  ]
}