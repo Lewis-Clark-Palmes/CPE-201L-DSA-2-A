{
  "nbformat": 4,
  "nbformat_minor": 0,
  "metadata": {
    "colab": {
      "provenance": [],
      "authorship_tag": "ABX9TyOlqpd62LoW07aZgs3qmUF2",
      "include_colab_link": true
    },
    "kernelspec": {
      "name": "python3",
      "display_name": "Python 3"
    },
    "language_info": {
      "name": "python"
    }
  },
  "cells": [
    {
      "cell_type": "markdown",
      "metadata": {
        "id": "view-in-github",
        "colab_type": "text"
      },
      "source": [
        "<a href=\"https://colab.research.google.com/github/Lewis-Clark-Palmes/CPE-201L-DSA-2-A/blob/main/LAB_5.ipynb\" target=\"_parent\"><img src=\"https://colab.research.google.com/assets/colab-badge.svg\" alt=\"Open In Colab\"/></a>"
      ]
    },
    {
      "cell_type": "code",
      "source": [
        "numbers = [1,2,3,4,5,6,7,8,9,10]\n",
        "print(\"Original Array:\", numbers)\n",
        "print(\"Sum of all elements:\", sum(numbers))\n",
        "\n",
        "while True:\n",
        "    print(\"\\nTo exit input 10\")\n",
        "    choice = input(\"Enter the index to call (0-9): \")\n",
        "\n",
        "    if choice == '10':\n",
        "        print(\"Exiting the program.\")\n",
        "        break\n",
        "\n",
        "    if choice.isdigit() and int(choice) in range(0, 10):\n",
        "        index = int(choice)\n",
        "        print(\"Element at index\", index, \"is:\", numbers[index])\n",
        "    else:\n",
        "        print(\"Invalid input, try again.\")\n"
      ],
      "metadata": {
        "colab": {
          "base_uri": "https://localhost:8080/"
        },
        "id": "ulJ7vhu7Nxvk",
        "outputId": "cc01c229-f373-467a-806d-a6d2eddb1179"
      },
      "execution_count": null,
      "outputs": [
        {
          "output_type": "stream",
          "name": "stdout",
          "text": [
            "Original Array: [1, 2, 3, 4, 5, 6, 7, 8, 9, 10]\n",
            "Sum of all elements: 55\n",
            "\n",
            "To exit input 10\n",
            "Enter the index to call (0-9): 0\n",
            "Element at index 0 is: 1\n",
            "\n",
            "To exit input 10\n",
            "Enter the index to call (0-9): 1\n",
            "Element at index 1 is: 2\n",
            "\n",
            "To exit input 10\n",
            "Enter the index to call (0-9): 2\n",
            "Element at index 2 is: 3\n",
            "\n",
            "To exit input 10\n",
            "Enter the index to call (0-9): 3\n",
            "Element at index 3 is: 4\n",
            "\n",
            "To exit input 10\n",
            "Enter the index to call (0-9): 4\n",
            "Element at index 4 is: 5\n",
            "\n",
            "To exit input 10\n",
            "Enter the index to call (0-9): 5\n",
            "Element at index 5 is: 6\n",
            "\n",
            "To exit input 10\n",
            "Enter the index to call (0-9): 6\n",
            "Element at index 6 is: 7\n",
            "\n",
            "To exit input 10\n",
            "Enter the index to call (0-9): 7\n",
            "Element at index 7 is: 8\n",
            "\n",
            "To exit input 10\n",
            "Enter the index to call (0-9): 8\n",
            "Element at index 8 is: 9\n",
            "\n",
            "To exit input 10\n",
            "Enter the index to call (0-9): 9\n",
            "Element at index 9 is: 10\n",
            "\n",
            "To exit input 10\n",
            "Enter the index to call (0-9): 10\n",
            "Exiting the program.\n"
          ]
        }
      ]
    },
    {
      "cell_type": "code",
      "source": [
        "numbers = [1,2,3,4,5,6,7,8,9,10]\n",
        "print(\"Original Array\", numbers)\n",
        "numbers.append(int(input(f\"Enter a number to add: \",)))\n",
        "print(\"Updated Array\", numbers)"
      ],
      "metadata": {
        "colab": {
          "base_uri": "https://localhost:8080/"
        },
        "id": "0iHmUcgUZqb5",
        "outputId": "ce66573e-84cc-43af-9f98-8eb02ecf0d5d"
      },
      "execution_count": null,
      "outputs": [
        {
          "output_type": "stream",
          "name": "stdout",
          "text": [
            "Original Array [1, 2, 3, 4, 5, 6, 7, 8, 9, 10]\n",
            "Enter a number to add: 24\n",
            "Updated Array [1, 2, 3, 4, 5, 6, 7, 8, 9, 10, 24]\n"
          ]
        }
      ]
    },
    {
      "cell_type": "code",
      "source": [
        "numbers = [1,2,3,4,5,6,7,8,9,10]\n",
        "print(\"Original Array\", numbers)\n",
        "\n",
        "numbers.insert(1,(int(input(f\"Enter the number you want to insert: \"))))\n",
        "print(\"Updated Array\", numbers)"
      ],
      "metadata": {
        "colab": {
          "base_uri": "https://localhost:8080/"
        },
        "id": "3Ri9fUCKfe77",
        "outputId": "b22f9f4e-74dd-4f19-a934-482c0ff6bb17"
      },
      "execution_count": null,
      "outputs": [
        {
          "output_type": "stream",
          "name": "stdout",
          "text": [
            "Original Array [1, 2, 3, 4, 5, 6, 7, 8, 9, 10]\n",
            "Enter the number you want to insert: 24\n",
            "Updated Array [1, 24, 2, 3, 4, 5, 6, 7, 8, 9, 10]\n"
          ]
        }
      ]
    },
    {
      "cell_type": "code",
      "source": [
        "numbers = [5, 4, 3, 2, 1]\n",
        "print(\"Original Array\", numbers)\n",
        "\n",
        "numbers.reverse()\n",
        "print(\"Reversed Array\", numbers)"
      ],
      "metadata": {
        "colab": {
          "base_uri": "https://localhost:8080/"
        },
        "id": "z9FvseHqgsN3",
        "outputId": "82a5ac72-36bc-41e3-851f-0e62a0be272e"
      },
      "execution_count": null,
      "outputs": [
        {
          "output_type": "stream",
          "name": "stdout",
          "text": [
            "Original Array [5, 4, 3, 2, 1]\n",
            "Reversed Array [1, 2, 3, 4, 5]\n"
          ]
        }
      ]
    },
    {
      "cell_type": "code",
      "source": [
        "numbers = [5, 4, 3, 2, 1]\n",
        "print(\"Original Array\", numbers)\n",
        "\n",
        "print(\"The length of the array is: \"len(numbers))\n"
      ],
      "metadata": {
        "colab": {
          "base_uri": "https://localhost:8080/"
        },
        "id": "AjDo7UnZhMMI",
        "outputId": "61144407-5e7c-4ea6-fc8e-36b65f7d3f7b"
      },
      "execution_count": null,
      "outputs": [
        {
          "output_type": "stream",
          "name": "stdout",
          "text": [
            "Original Array [5, 4, 3, 2, 1]\n",
            "The length of the array is:  5\n"
          ]
        }
      ]
    }
  ]
}