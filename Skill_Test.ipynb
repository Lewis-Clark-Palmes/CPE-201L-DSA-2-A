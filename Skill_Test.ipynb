{
  "nbformat": 4,
  "nbformat_minor": 0,
  "metadata": {
    "colab": {
      "provenance": [],
      "authorship_tag": "ABX9TyOcJ5vDDSXAQyoCmrUESFYW",
      "include_colab_link": true
    },
    "kernelspec": {
      "name": "python3",
      "display_name": "Python 3"
    },
    "language_info": {
      "name": "python"
    }
  },
  "cells": [
    {
      "cell_type": "markdown",
      "metadata": {
        "id": "view-in-github",
        "colab_type": "text"
      },
      "source": [
        "<a href=\"https://colab.research.google.com/github/Lewis-Clark-Palmes/CPE-201L-DSA-2-A/blob/main/Skill_Test.ipynb\" target=\"_parent\"><img src=\"https://colab.research.google.com/assets/colab-badge.svg\" alt=\"Open In Colab\"/></a>"
      ]
    },
    {
      "cell_type": "markdown",
      "source": [
        "---\n",
        "\n",
        "# **Skill-Test**\n",
        "\n",
        "---"
      ],
      "metadata": {
        "id": "w-pllhqgZvTr"
      }
    },
    {
      "cell_type": "markdown",
      "source": [
        "Objectives of the Skill-Test:\n",
        "1. Choose only(1) Data Structure (Array, Linked-List (Singly, Doubly), Stack, Queue)\n",
        "2. Create a Python program that appends each character of your Fullname and traverse each character.\n",
        "3. Save your Python program as Skill-Test in your Colab and Github\n"
      ],
      "metadata": {
        "id": "hgJixfZtZ4CJ"
      }
    },
    {
      "cell_type": "code",
      "execution_count": 2,
      "metadata": {
        "colab": {
          "base_uri": "https://localhost:8080/"
        },
        "id": "cE55uZzxZrMW",
        "outputId": "005a29f8-4396-4711-cbed-a4a920558fba"
      },
      "outputs": [
        {
          "output_type": "stream",
          "name": "stdout",
          "text": [
            "Array : ['L', 'e', 'w', 'i', 's', ' ', 'C', 'l', 'a', 'r', 'k', ' ', 'L', '.', ' ', 'P', 'a', 'l', 'm', 'e', 's']\n",
            "\n",
            "Traversing the array:\n",
            "\n",
            "L\n",
            "e\n",
            "w\n",
            "i\n",
            "s\n",
            " \n",
            "C\n",
            "l\n",
            "a\n",
            "r\n",
            "k\n",
            " \n",
            "L\n",
            ".\n",
            " \n",
            "P\n",
            "a\n",
            "l\n",
            "m\n",
            "e\n",
            "s\n"
          ]
        }
      ],
      "source": [
        "#Skill-Test\n",
        "#Using Array\n",
        "def traverse(name_array):\n",
        "    print(\"\\nTraversing the array:\\n\")\n",
        "    for ch in name_array:\n",
        "        print(ch)\n",
        "\n",
        "name_array = []\n",
        "\n",
        "full_name = \"Lewis Clark L. Palmes\"\n",
        "\n",
        "for character in full_name:\n",
        "    name_array.append(ch)\n",
        "\n",
        "print(\"Array :\",name_array)\n",
        "traverse(name_array)\n"
      ]
    }
  ]
}